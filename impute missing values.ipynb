{
 "cells": [
  {
   "cell_type": "markdown",
   "id": "945d455a-ce10-40ee-8ab9-2941093f57b7",
   "metadata": {},
   "source": [
    "# Impute Missing Values"
   ]
  },
  {
   "cell_type": "markdown",
   "id": "466b2bf4-5367-43a0-8f50-0ba7e51f8a7c",
   "metadata": {},
   "source": [
    "### Install needed library"
   ]
  },
  {
   "cell_type": "code",
   "execution_count": null,
   "id": "34cc7f2c-be63-4446-93c6-cda99a6da9f3",
   "metadata": {},
   "outputs": [],
   "source": [
    "!pip install pandas"
   ]
  },
  {
   "cell_type": "markdown",
   "id": "467d0ec2-7f33-48db-8720-3d4fd6364a93",
   "metadata": {},
   "source": [
    "## Step 1: Import Required Libraries"
   ]
  },
  {
   "cell_type": "code",
   "execution_count": null,
   "id": "453e30fc-9f83-4f71-a172-b8a5edc8cfef",
   "metadata": {},
   "outputs": [],
   "source": [
    "import pandas as pd"
   ]
  },
  {
   "cell_type": "markdown",
   "id": "4bff1a40-f41b-4050-ae0d-d6d5e060aca4",
   "metadata": {},
   "source": [
    "## Step 2: Load the Dataset Into a Dataframe"
   ]
  },
  {
   "cell_type": "code",
   "execution_count": null,
   "id": "5ca568a9-dfea-41d9-bd60-0ece6cc8b0aa",
   "metadata": {},
   "outputs": [],
   "source": [
    "file_path = \"https://cf-courses-data.s3.us.cloud-object-storage.appdomain.cloud/n01PQ9pSmiRX6520flujwQ/survey-data.csv\"\n",
    "df = pd.read_csv(file_path)\n",
    "\n",
    "# Display the first few rows to ensure it loaded correctly\n",
    "print(df.head())"
   ]
  },
  {
   "cell_type": "markdown",
   "id": "11ec5bdd-69f4-4efe-84d7-5ff712ba3ef6",
   "metadata": {},
   "source": [
    "## Step 3. Finding and Removing Duplicates\n",
    "#### Task 1: Identify duplicate rows in the dataset."
   ]
  },
  {
   "cell_type": "code",
   "execution_count": null,
   "id": "63a72b20-c797-4e59-9b91-440b69b9e6ee",
   "metadata": {},
   "outputs": [],
   "source": [
    "## Write your code here\n",
    "dup = df[df.duplicated()]\n",
    "print(\"duplicated row in dataset \") \n",
    "print(dup)"
   ]
  },
  {
   "cell_type": "markdown",
   "id": "634773bd-d480-482d-830a-36f2fd91baeb",
   "metadata": {},
   "source": [
    "#### Task 2: Remove the duplicate rows from the dataframe."
   ]
  },
  {
   "cell_type": "code",
   "execution_count": null,
   "id": "6cf30f66-4000-4ea6-956b-3fc24ac1b0a6",
   "metadata": {},
   "outputs": [],
   "source": [
    "## Write your code here\n",
    "remove = df.drop_duplicates() \n",
    "print(\"remove duplicate duplicate row \") \n",
    "print(remove)"
   ]
  },
  {
   "cell_type": "markdown",
   "id": "055fb82a-e409-4639-9e60-a65626601e9e",
   "metadata": {},
   "source": [
    "### Step 4: Finding Missing Values\n",
    "#### Task 3: Find the missing values for all columns."
   ]
  },
  {
   "cell_type": "code",
   "execution_count": null,
   "id": "26e839e0-d412-4bec-b447-0f2746edbdac",
   "metadata": {},
   "outputs": [],
   "source": [
    "## Write your code here\n",
    "missing = df.isnull().sum() \n",
    "print(\"missing value for all columns\") \n",
    "print(missing)"
   ]
  },
  {
   "cell_type": "markdown",
   "id": "e7bf4c05-1f49-4e54-833c-2aae81577f00",
   "metadata": {},
   "source": [
    "### Task 4: Find out how many rows are missing in the column RemoteWork"
   ]
  },
  {
   "cell_type": "code",
   "execution_count": null,
   "id": "c49f04b7-4480-4574-a9d1-b5a45abf5b64",
   "metadata": {},
   "outputs": [],
   "source": [
    "## Write your code here\n",
    "missing_remote = df['RemoteWork'].isnull().sum() \n",
    "print(\"missing value  in RemoteWork column\") \n",
    "print(missing_remote)"
   ]
  },
  {
   "cell_type": "markdown",
   "id": "554bed4e-1a09-4f20-b36c-7fef8e4e9a87",
   "metadata": {},
   "source": [
    "### Step 5. Imputing Missing Values\n",
    "#### Task 5: Find the value counts for the column RemoteWork"
   ]
  },
  {
   "cell_type": "code",
   "execution_count": null,
   "id": "772d9e1e-1055-494b-ace8-ab4064b550b7",
   "metadata": {},
   "outputs": [],
   "source": [
    "## Write your code here\n",
    "value_co = df['RemoteWork'].value_counts() \n",
    "print(\"value counts of RemoteWork\") \n",
    "print(value_co)"
   ]
  },
  {
   "cell_type": "markdown",
   "id": "2324a5fa-54ee-4dac-9565-e4f4cb349aa5",
   "metadata": {},
   "source": [
    "### Task 6: Identify the most frequent (majority) value in the RemoteWork column."
   ]
  },
  {
   "cell_type": "code",
   "execution_count": null,
   "id": "d36a225f-3698-4769-a832-7e72f0305fb7",
   "metadata": {},
   "outputs": [],
   "source": []
  }
 ],
 "metadata": {
  "kernelspec": {
   "display_name": "Python 3 (ipykernel)",
   "language": "python",
   "name": "python3"
  },
  "language_info": {
   "codemirror_mode": {
    "name": "ipython",
    "version": 3
   },
   "file_extension": ".py",
   "mimetype": "text/x-python",
   "name": "python",
   "nbconvert_exporter": "python",
   "pygments_lexer": "ipython3",
   "version": "3.13.2"
  }
 },
 "nbformat": 4,
 "nbformat_minor": 5
}
