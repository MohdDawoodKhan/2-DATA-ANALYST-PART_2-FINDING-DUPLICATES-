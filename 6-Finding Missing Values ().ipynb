{
 "cells": [
  {
   "cell_type": "markdown",
   "id": "63b18898-2fa3-4ada-beb5-5833dc777ed1",
   "metadata": {},
   "source": [
    "# Finding Missing Values"
   ]
  },
  {
   "cell_type": "markdown",
   "id": "f6630e8a-647f-4b2e-a0d1-b5caf992c1db",
   "metadata": {},
   "source": [
    "### Setup: Install Required Libraries"
   ]
  },
  {
   "cell_type": "code",
   "execution_count": null,
   "id": "4e9ddfaa-8c51-4a30-844d-af0f85a0bf3f",
   "metadata": {},
   "outputs": [],
   "source": [
    "!pip install pandas\n",
    "!pip install matplotlib\n",
    "!pip install seaborn"
   ]
  },
  {
   "cell_type": "markdown",
   "id": "3a2fd375-aa83-4baa-b59a-f286e9ae23a6",
   "metadata": {},
   "source": [
    "#### Import Necessary Modules:"
   ]
  },
  {
   "cell_type": "code",
   "execution_count": null,
   "id": "e1975a1d-07fd-4c73-912e-77078ca8dfe7",
   "metadata": {},
   "outputs": [],
   "source": [
    "import pandas as pd\n",
    "import matplotlib.pyplot as plt\n",
    "import seaborn as sns"
   ]
  },
  {
   "cell_type": "markdown",
   "id": "d2dd5156-bcfe-4b20-95a8-2ecf47fff89c",
   "metadata": {},
   "source": [
    "## 1. Load the Dataset¶"
   ]
  },
  {
   "cell_type": "code",
   "execution_count": null,
   "id": "38e2f386-f460-46cc-b126-ec7f63e9ad8e",
   "metadata": {},
   "outputs": [],
   "source": [
    "# Define the URL of the dataset\n",
    "file_path = \"https://cf-courses-data.s3.us.cloud-object-storage.appdomain.cloud/n01PQ9pSmiRX6520flujwQ/survey-data.csv\"\n",
    "\n",
    "# Load the dataset into a DataFrame\n",
    "df = pd.read_csv(file_path)\n",
    "\n",
    "# Display the first few rows to ensure it loaded correctly\n",
    "print(df.head)\n"
   ]
  },
  {
   "cell_type": "markdown",
   "id": "40a0712c-005c-42dd-b9d6-d14f925730b2",
   "metadata": {},
   "source": [
    "## Explore the Dataset"
   ]
  },
  {
   "cell_type": "markdown",
   "id": "da1f2172-1e34-49cb-b5ac-ab860d67c5fe",
   "metadata": {},
   "source": [
    "#### Task 1: Display basic information and summary statistics of the dataset.¶"
   ]
  },
  {
   "cell_type": "code",
   "execution_count": null,
   "id": "1e566bcc-95d6-4b6f-a6ad-5cd3feb2315f",
   "metadata": {},
   "outputs": [],
   "source": [
    "## Write your code here\n",
    "info = df.info()\n",
    "print(\"basic info :\" , {info})\n",
    "summary = df.describe() \n",
    "print(\"summary statistic\")\n",
    "print(summary)"
   ]
  },
  {
   "cell_type": "markdown",
   "id": "4fc4adde-f95c-4260-a52a-6e50e620fb08",
   "metadata": {},
   "source": [
    "### 3. Finding Missing Values\n",
    "### Task 2: Identify missing values for all columns."
   ]
  },
  {
   "cell_type": "code",
   "execution_count": null,
   "id": "9150cfb8-6ad1-4f97-8618-89ee184d889f",
   "metadata": {},
   "outputs": [],
   "source": [
    "## Write your code here\n",
    "missing_value = df.isnull().sum() \n",
    "print(\"missing value in all columns\") \n",
    "print(missing_value)"
   ]
  },
  {
   "cell_type": "markdown",
   "id": "34174171-202e-4925-92e0-72de8d50a62f",
   "metadata": {},
   "source": [
    "### Task 3: Visualize missing values using a heatmap (Using seaborn library)."
   ]
  },
  {
   "cell_type": "code",
   "execution_count": null,
   "id": "353414c1-3e7f-4d4b-aaf0-9bffac100c19",
   "metadata": {},
   "outputs": [],
   "source": [
    "## Write your code here\n",
    "plt.figure(figsize=(12,6)) \n",
    "sns.heatmap(df.isnull() ,cmap='viridis', cbar= False ,yticklabels=False) \n",
    "plt.title(\"missing value with heatmap\" , fontsize = 16) \n",
    "plt.xlabel(\"Columns\") \n",
    "plt.ylabel(\"Rows\") \n",
    "plt.tight_layout() \n",
    "plt.show()"
   ]
  },
  {
   "cell_type": "markdown",
   "id": "1e5245f0-01ae-4272-8829-969e6673b6fa",
   "metadata": {},
   "source": [
    "#### Task 4: Count the number of missing rows for a specific column (e.g., Employment).¶"
   ]
  },
  {
   "cell_type": "code",
   "execution_count": null,
   "id": "6eb07866-ce4a-4c9b-9a7c-62794f9ece94",
   "metadata": {},
   "outputs": [],
   "source": [
    "## Write your code here\n",
    "missing_RemoteWork = df['RemoteWork'].isnull().sum() \n",
    "print(\"missin rows of RemoteWork\") \n",
    "print(missing_RemoteWork)"
   ]
  },
  {
   "cell_type": "markdown",
   "id": "371afa29-78b0-4c97-b5fd-7c1c36179ad6",
   "metadata": {},
   "source": [
    "### 4. Imputing Missing Values\n",
    "### Task 5: Identify the most frequent (majority) value in a specific column (e.g., Employment).¶"
   ]
  },
  {
   "cell_type": "code",
   "execution_count": null,
   "id": "50340ab6-fb32-4fa7-b89c-07b1f1e896e1",
   "metadata": {},
   "outputs": [],
   "source": [
    "## Write your code here\n",
    "most_value = df['RemoteWork'].mode()[0] \n",
    "print(\"most frequent value in RemoteWork\") \n",
    "print(most_value)"
   ]
  },
  {
   "cell_type": "markdown",
   "id": "7c0a7bb7-d48b-490c-892f-dbc9e115503a",
   "metadata": {},
   "source": [
    "#### Task 6: Impute missing values in the Employment column with the most frequent value."
   ]
  },
  {
   "cell_type": "code",
   "execution_count": null,
   "id": "2ad440a6-8e27-4d58-8f9a-f28ba31d411e",
   "metadata": {},
   "outputs": [],
   "source": [
    "## Write your code here\n",
    "df['RemoteWork'].fillna(most_value , inplace=True) \n",
    "print(df['RemoteWork'].isnull().sum())"
   ]
  },
  {
   "cell_type": "markdown",
   "id": "ec7b55c0-245c-4ee0-8b55-226451cca35f",
   "metadata": {},
   "source": [
    "### 5. Visualizing Imputed Data\n",
    "### Task 7: Visualize the distribution of a column after imputation (e.g., Employment)."
   ]
  },
  {
   "cell_type": "code",
   "execution_count": null,
   "id": "8ca6efc3-631b-479f-8f14-7642ce5dacfe",
   "metadata": {},
   "outputs": [],
   "source": [
    "## Write your code here\n",
    "plt.figure(figsize=(12,6)) \n",
    "sns.countplot(data=df , x ='RemoteWork' , order=df['RemoteWork'].value_counts().index) \n",
    "plt.title(\"distribution of a column after imputation \" , fontsize = 16) \n",
    "plt.xlabel(\"RemoteWork type\") \n",
    "plt.ylabel('count') \n",
    "plt.xticks(rotation=45) \n",
    "plt.tight_layout() \n",
    "plt.show()"
   ]
  }
 ],
 "metadata": {
  "kernelspec": {
   "display_name": "Python 3 (ipykernel)",
   "language": "python",
   "name": "python3"
  },
  "language_info": {
   "codemirror_mode": {
    "name": "ipython",
    "version": 3
   },
   "file_extension": ".py",
   "mimetype": "text/x-python",
   "name": "python",
   "nbconvert_exporter": "python",
   "pygments_lexer": "ipython3",
   "version": "3.13.2"
  }
 },
 "nbformat": 4,
 "nbformat_minor": 5
}
